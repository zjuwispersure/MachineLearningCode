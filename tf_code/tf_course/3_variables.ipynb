{
 "nbformat": 4,
 "nbformat_minor": 2,
 "metadata": {
  "language_info": {
   "name": "python",
   "codemirror_mode": {
    "name": "ipython",
    "version": 3
   },
   "version": "3.7.3"
  },
  "orig_nbformat": 2,
  "file_extension": ".py",
  "mimetype": "text/x-python",
  "name": "python",
  "npconvert_exporter": "python",
  "pygments_lexer": "ipython3",
  "version": 3
 },
 "cells": [
  {
   "cell_type": "code",
   "execution_count": 4,
   "metadata": {},
   "outputs": [],
   "source": [
    "import tensorflow as tf \n",
    "from tensorflow.python.framework import ops\n",
    "\n",
    "weights = tf.Variable(tf.random_normal([2,3], stddev=0.1), name=\"weights\")\n",
    "biases = tf.Variable(tf.zeros([3]), name=\"biases\")\n",
    "custom_variable = tf.Variable(tf.zeros([3]), name=\"custom\")\n",
    "all_variables_list = ops.get_collection(ops.GraphKeys.GLOBAL_VARIABLES)\n"
   ]
  },
  {
   "cell_type": "code",
   "execution_count": 5,
   "metadata": {},
   "outputs": [],
   "source": [
    "variable_list_custom = [weights, custom_variable]\n",
    "init_custom_op = tf.variables_initializer(var_list=variable_list_custom)"
   ]
  },
  {
   "cell_type": "code",
   "execution_count": 6,
   "metadata": {},
   "outputs": [],
   "source": [
    "#method1\n",
    "init_all_op = tf.global_variables_initializer()\n",
    "#method2\n",
    "init_all_op = tf.variables_initializer(var_list=all_variables_list)"
   ]
  },
  {
   "cell_type": "code",
   "execution_count": 9,
   "metadata": {},
   "outputs": [],
   "source": [
    "WeightsNew = tf.Variable(weights.initialized_value(), name=\"WeightsNew\")\n",
    "init_WeightsNew_op = tf.variables_initializer(var_list=[WeightsNew])"
   ]
  },
  {
   "cell_type": "code",
   "execution_count": 10,
   "metadata": {},
   "outputs": [],
   "source": [
    "with tf.Session() as sess:\n",
    "    sess.run(init_all_op)\n",
    "    sess.run(init_custom_op)\n",
    "    sess.run(init_WeightsNew_op)"
   ]
  },
  {
   "cell_type": "code",
   "execution_count": 11,
   "metadata": {},
   "outputs": [],
   "source": [
    "sess.close()"
   ]
  },
  {
   "cell_type": "code",
   "execution_count": null,
   "metadata": {},
   "outputs": [],
   "source": []
  }
 ]
}